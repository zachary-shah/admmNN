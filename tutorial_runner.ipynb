{
 "cells": [
  {
   "attachments": {},
   "cell_type": "markdown",
   "metadata": {},
   "source": [
    "# ADMM-based Neural Network Optimizer Tutorial\n",
    "\n",
    "This is a tutorial for the ADMM-based Convex reformulation of the ReLU-activated 2-layer Neural Network training problem. We show training and inference on a subset of the CIFAR-10 dataset."
   ]
  },
  {
   "attachments": {},
   "cell_type": "markdown",
   "metadata": {},
   "source": [
    "### Setup\n",
    "\n",
    "Before running the below cell, make sure to set up the Python enviroment with all necessary supporting packages using the following lines in a command window:\n",
    "\n",
    "```\n",
    "conda env create -f env.yml\n",
    "conda activate cvxenv\n",
    "```\n"
   ]
  },
  {
   "cell_type": "code",
   "execution_count": null,
   "metadata": {},
   "outputs": [],
   "source": [
    "import os\n",
    "import numpy as np\n",
    "import matplotlib.pyplot as plt\n",
    "plt.style.use('seaborn')\n",
    "\n",
    "from relu_solver import CReLU_MLP\n",
    "from utils.relu_utils import classifcation_accuracy, binary_classifcation_accuracy, squared_loss, cross_entropy_loss\n",
    "from utils.load_data import load_cifar"
   ]
  },
  {
   "attachments": {},
   "cell_type": "markdown",
   "metadata": {},
   "source": [
    "Let's load a subset of the CIFAR-10 dataset for this tutorial. We reshape the training data into an $N \\times d$ matrix and subsample to a binary classification problem for the sake of this tutorial."
   ]
  },
  {
   "cell_type": "code",
   "execution_count": null,
   "metadata": {},
   "outputs": [],
   "source": [
    "from tensorflow import keras\n",
    "from utils.load_data import preprocess_cifar10\n",
    "\n",
    "# preprocess data into N x d matrices and downsample into binary class data for demo\n",
    "(X_train,Y_train),(X_test,Y_test) = keras.datasets.cifar10.load_data()\n",
    "\n",
    "X_train,Y_train,X_test,Y_test = preprocess_cifar10(X_train=X_train, \n",
    "                                                  X_test=X_test, \n",
    "                                                  Y_train=Y_train, \n",
    "                                                  Y_test=Y_test, \n",
    "                                                  n_train=10000,\n",
    "                                                  n_test=1000, \n",
    "                                                  downsample=True, \n",
    "                                                  binary_classes=True)\n",
    "                                                  \n",
    "print(f'The shape of X_train is : {X_train.shape}','\\t',f'The shape of Y_train is : {Y_train.shape}','\\n',\n",
    "     f'The shape of X_test is : {X_test.shape}','\\t',f'The shape of y_test is : {Y_test.shape}')\n"
   ]
  },
  {
   "attachments": {},
   "cell_type": "markdown",
   "metadata": {},
   "source": [
    "### Optimizer Training\n",
    "\n",
    "First, create an instance of a ```CRelu_MLP``` object with the specific optimization parameters listed below (not exhaustive)."
   ]
  },
  {
   "cell_type": "code",
   "execution_count": 3,
   "metadata": {},
   "outputs": [
    {
     "name": "stdout",
     "output_type": "stream",
     "text": [
      "###### Initializing CReLU MLP! ########\n",
      "\tSelected mode: ADMM-RBCD. Using optimizer: <function admm_optimizer at 0x17e97b9d0>\n",
      "\tUsing backend: torch.\n",
      "***** Initializing ADMM-RBCD Parameters ****\n",
      "  - Warning: solver param \"optimality_tolerance\" not specified. Using default: 0.001.\n",
      "  - Warning: solver param \"bias\" not specified. Using default: True.\n",
      "  - Warning: solver param \"beta\" not specified. Using default: 0.0001.\n",
      "  - Warning: solver param \"rho\" not specified. Using default: 0.02.\n",
      "  - Warning: solver param \"alpha0\" not specified. Using default: 3e-06.\n",
      "  - Warning: solver param \"RBCD_blocksize\" not specified. Using default: 3.\n",
      "  - Warning: solver param \"RBCD_thresh\" not specified. Using default: 0.7.\n",
      "  - Warning: solver param \"RBCD_thresh_decay\" not specified. Using default: 0.96.\n",
      "  - Warning: solver param \"gamma_ratio\" not specified. Using default: 0.2.\n",
      "  - Warning: solver param \"gamma_ratio_decay\" not specified. Using default: 0.99.\n",
      "  - Warning: solver param \"base_buffer_size\" not specified. Using default: 8.\n",
      "  - Warning: solver param \"rho_increment\" not specified. Using default: 0.0001.\n",
      "Initialization complete, ready for training with .optimize().\n"
     ]
    }
   ],
   "source": [
    "\"\"\"########################### PARAMETERS  ##############################\"\"\"\n",
    "# load to 'cpu' or 'cuda' for GPU usage\n",
    "device = 'cpu' \n",
    "# optimizer mode: choose 'ADMM' for full solve or 'ADMM-RBCD' for approximate solve\n",
    "optimizer_mode = 'ADMM-RBCD'\n",
    "# datatype backend to use for gpu: 'numpy', 'jax', or 'torch'. Use 'jax' or 'torch' for GPU acceleration (torch reccomended)\n",
    "datatype_backend = 'torch'\n",
    "# number of hidden layers in network (~10-100 reccomended)\n",
    "num_hidden_layers = 10\n",
    "# choose between 'binary_classification_accuracy' (reccomended for binary class problems) and 'classification_accuracy' (k class problems)\n",
    "accuracy_func = binary_classifcation_accuracy\n",
    "# choose between 'mse' (mean squared error) and 'ce' (cross entropy loss)\n",
    "loss_type = 'mse'\n",
    "# random seed\n",
    "seed = 35791\n",
    "# set true to run optimizations with memory efficiency preferred over time efficiency (required at high data dimensions to prevent OOM)\n",
    "save_memory = False\n",
    "\n",
    "## Set up the Convex Relu Solver\n",
    "optimizer_config = dict(\n",
    "    optimizer_mode= optimizer_mode,\n",
    "    datatype_backend = datatype_backend,\n",
    "    loss_type = loss_type,\n",
    "    P_S = num_hidden_layers,\n",
    "    acc_func = accuracy_func,\n",
    "    verbose_initialization=True,\n",
    "    seed=seed,\n",
    "    memory_save = save_memory,\n",
    ")\n",
    "solver = CReLU_MLP(X_train, Y_train, **optimizer_config)"
   ]
  },
  {
   "attachments": {},
   "cell_type": "markdown",
   "metadata": {},
   "source": [
    "Training is done with a simple call of ```.optimize()``` on the ```CReLU_MLP``` object. This also returns a ```metrics``` dictionary that contains the solver loss and accuracy per iteration step, as well as information about the compute time breakdowns per iteration and per optimization step."
   ]
  },
  {
   "cell_type": "code",
   "execution_count": 4,
   "metadata": {},
   "outputs": [
    {
     "name": "stdout",
     "output_type": "stream",
     "text": [
      "\n",
      "Beginning optimization! Mode: ADMM-RBCD\n",
      "  Sampling hyperplane cuts (D_h matrices)...\n",
      "\td_diags.shape: torch.Size([10000, 10])\n",
      "  Completing precomputations...\n",
      "\tPre Computations Took 0.004s\n",
      "\n",
      "Beginning descent with maximum 10 iterations and max solve time of 120: \n",
      "  Beginning RBCD update...\n",
      "\tloss = mse\n",
      "\tIteration 20 , alpha: 9.983013117533393e-07 , delta: tensor(45.6356)\n",
      "\tIteration 40 , alpha: 1.1772402575634683e-06 , delta: tensor(9.3904)\n",
      "\tIteration 60 , alpha: 9.255018885323788e-07 , delta: tensor(4.3336)\n",
      "\tIteration 80 , alpha: 1.0913920164221283e-06 , delta: tensor(3.2476)\n",
      "\tIteration 100 , alpha: 1.287016858927012e-06 , delta: tensor(2.4280)\n",
      "\tIteration 120 , alpha: 1.011804112080955e-06 , delta: tensor(1.3793)\n",
      "\tIteration 140 , alpha: 4.772653384249045e-07 , delta: tensor(1.2868)\n",
      "\tIteration 160 , alpha: 9.380200201390927e-07 , delta: tensor(0.9880)\n",
      "\tIteration 180 , alpha: 7.374359605376533e-07 , delta: tensor(0.9730)\n",
      "\tIteration 200 , alpha: 8.696165074602347e-07 , delta: tensor(0.8936)\n",
      "\tIteration 220 , alpha: 1.0254895482666438e-06 , delta: tensor(0.8255)\n",
      "\tIteration 240 , alpha: 8.062012044638448e-07 , delta: tensor(0.7828)\n",
      "\tIteration 260 , alpha: 1.426061203792393e-06 , delta: tensor(0.7956)\n",
      "\tIteration 280 , alpha: 1.1211155316793626e-06 , delta: tensor(0.7336)\n",
      "iter: 1\n",
      "  u-v dist = 28.131423950195312, u resid = 1734.955810546875, v resid = 0.0026149479672312737\n",
      "\tWeight transform generated: u shape: (364, 20), alpha shape: (20,)\n",
      "  tr_loss = 2317.806396484375, tr_acc = 0.8623999953269958, val_acc = 0.824999988079071\n",
      "  Beginning RBCD update...\n",
      "\tloss = mse\n",
      "iter: 2\n",
      "  u-v dist = 28.26692771911621, u resid = 3229.673095703125, v resid = 0.002548828022554517\n",
      "\tWeight transform generated: u shape: (364, 20), alpha shape: (20,)\n",
      "  tr_loss = 2308.4775390625, tr_acc = 0.8628000020980835, val_acc = 0.8240000009536743\n",
      "  Beginning RBCD update...\n",
      "\tloss = mse\n",
      "iter: 3\n",
      "  u-v dist = 27.799917221069336, u resid = 1665.8785400390625, v resid = 0.0024960848968476057\n",
      "\tWeight transform generated: u shape: (364, 20), alpha shape: (20,)\n",
      "  tr_loss = 2296.7802734375, tr_acc = 0.8650000095367432, val_acc = 0.8259999752044678\n",
      "  Beginning RBCD update...\n",
      "\tloss = mse\n",
      "iter: 4\n",
      "  u-v dist = 27.601917266845703, u resid = 1693.9608154296875, v resid = 0.0024538878351449966\n",
      "\tWeight transform generated: u shape: (364, 20), alpha shape: (20,)\n",
      "  tr_loss = 2288.726318359375, tr_acc = 0.8658000230789185, val_acc = 0.8270000219345093\n",
      "  Beginning RBCD update...\n",
      "\tloss = mse\n",
      "iter: 5\n",
      "  u-v dist = 27.388113021850586, u resid = 1375.0380859375, v resid = 0.0024201078340411186\n",
      "\tWeight transform generated: u shape: (364, 20), alpha shape: (20,)\n",
      "  tr_loss = 2281.1025390625, tr_acc = 0.8665000200271606, val_acc = 0.8270000219345093\n",
      "  Beginning RBCD update...\n",
      "\tloss = mse\n",
      "iter: 6\n",
      "  u-v dist = 27.137603759765625, u resid = 1388.97998046875, v resid = 0.0023929548915475607\n",
      "\tWeight transform generated: u shape: (364, 20), alpha shape: (20,)\n",
      "  tr_loss = 2274.529296875, tr_acc = 0.8666999936103821, val_acc = 0.8289999961853027\n",
      "  Beginning RBCD update...\n",
      "\tloss = mse\n",
      "iter: 7\n",
      "  u-v dist = 26.94696807861328, u resid = 1409.931640625, v resid = 0.002371240174397826\n",
      "\tWeight transform generated: u shape: (364, 20), alpha shape: (20,)\n",
      "  tr_loss = 2267.821044921875, tr_acc = 0.8672000169754028, val_acc = 0.8309999704360962\n",
      "  Beginning RBCD update...\n",
      "\tloss = mse\n",
      "iter: 8\n",
      "  u-v dist = 26.718324661254883, u resid = 2643.19140625, v resid = 0.0023536758963018656\n",
      "\tWeight transform generated: u shape: (364, 20), alpha shape: (20,)\n",
      "  tr_loss = 2261.150390625, tr_acc = 0.8676999807357788, val_acc = 0.8320000171661377\n",
      "  Beginning RBCD update...\n",
      "\tloss = mse\n",
      "iter: 9\n",
      "  u-v dist = 26.40715789794922, u resid = 1301.9989013671875, v resid = 0.002339473692700267\n",
      "\tWeight transform generated: u shape: (364, 20), alpha shape: (20,)\n",
      "  tr_loss = 2255.474365234375, tr_acc = 0.8676999807357788, val_acc = 0.8349999785423279\n",
      "  Beginning RBCD update...\n",
      "\tloss = mse\n",
      "iter: 10\n",
      "  u-v dist = 26.088632583618164, u resid = 1335.32080078125, v resid = 0.0023280044551938772\n",
      "\tWeight transform generated: u shape: (364, 20), alpha shape: (20,)\n",
      "  tr_loss = 2249.003662109375, tr_acc = 0.8682000041007996, val_acc = 0.8349999785423279\n",
      "Warning: Reached max iteration count of 10. Optimization not guranteed.\n",
      "\n",
      "Optimization runner terminating.        \n",
      "Metrics summary:        \n",
      "\tFinal train loss: 2249.003662109375        \n",
      "\tFinal train accuracy: 0.8682000041007996        \n",
      "Computation times summary:        \n",
      "\tTotal solve time: 4.6648s        \n",
      "\tPrecomputations:    0.0040s        \n",
      "\tTotal U updates:    4.6398s        \n",
      "\tTotal V updates:    0.0055s        \n",
      "\tTotal S updates:    0.0131s        \n",
      "\tTotal Dual updates: 0.0023s\n",
      "\tWeight transform generated: u shape: (364, 20), alpha shape: (20,)\n",
      "\n",
      "Optimization complete! Ready for application with .predict().\n",
      "\n"
     ]
    }
   ],
   "source": [
    "## Run the solver\n",
    "metrics = solver.optimize(max_iter=10, verbose=True, X_val=X_test, y_val=Y_test)"
   ]
  },
  {
   "attachments": {},
   "cell_type": "markdown",
   "metadata": {},
   "source": [
    "### Inference\n",
    "\n",
    "Inference is completed with ```.predict()```:"
   ]
  },
  {
   "cell_type": "code",
   "execution_count": 5,
   "metadata": {},
   "outputs": [
    {
     "name": "stdout",
     "output_type": "stream",
     "text": [
      "Test Accuracy = 83.5%\n"
     ]
    }
   ],
   "source": [
    "y_hat = solver.predict(X=X_test)\n",
    "\n",
    "# get accuracy\n",
    "print(f\"Test Accuracy = {accuracy_func(y_hat, Y_test)*100}%\")"
   ]
  },
  {
   "attachments": {},
   "cell_type": "markdown",
   "metadata": {},
   "source": [
    "We can also plot the validation performance per iteration of the ADMM solver:"
   ]
  },
  {
   "cell_type": "code",
   "execution_count": 6,
   "metadata": {},
   "outputs": [
    {
     "data": {
      "image/png": "[encoded data removed]",
      "text/plain": [
       "<Figure size 800x550 with 2 Axes>"
      ]
     },
     "metadata": {},
     "output_type": "display_data"
    }
   ],
   "source": [
    "plt.subplot(1,2,1)\n",
    "plt.plot(metrics[\"iteration_timepoints\"], metrics[\"val_loss\"], '-*')\n",
    "plt.title(\"Validation Loss\")\n",
    "plt.xlabel(\"Time (s)\")\n",
    "plt.ylabel(\"Loss\")\n",
    "\n",
    "plt.subplot(1,2,2)\n",
    "plt.plot(metrics[\"iteration_timepoints\"], metrics[\"val_acc\"], '-*')\n",
    "plt.title(\"Validation Accuracy\")\n",
    "plt.xlabel(\"Time (s)\")\n",
    "plt.ylabel(\"Accuracy\")\n",
    "plt.show()"
   ]
  },
  {
   "attachments": {},
   "cell_type": "markdown",
   "metadata": {},
   "source": [
    "### Other Optimization Methods\n",
    "\n",
    "Here we compare solving the same problem with different approximations of the Primal update step, including RBCD (shown above), a Conjugate Gradient, and a Preconditioned Conjugate Gradient. Note the time complexity / accuracy trade-off."
   ]
  },
  {
   "cell_type": "code",
   "execution_count": 7,
   "metadata": {},
   "outputs": [
    {
     "name": "stdout",
     "output_type": "stream",
     "text": [
      "Test Accuracy for ADMM with RBCD = 83.3%, Time = 4.549s\n",
      "Test Accuracy for ADMM with CG = 84.2%, Time = 7.651s\n",
      "Test Accuracy for ADMM with Nystrom-Preconditioned CG = 85.0%, Time = 14.889s\n"
     ]
    }
   ],
   "source": [
    "\"\"\"########################### PARAMETERS  ##############################\"\"\"\n",
    "\n",
    "# # ----------- ADMM solved via Randomized Block Coordinate Descent ------------\n",
    "optimizer_config = dict(\n",
    "    optimizer_mode= 'ADMM-RBCD',\n",
    "    datatype_backend = 'torch',\n",
    "    loss_type = 'mse',\n",
    "    P_S = 10,\n",
    "    acc_func = binary_classifcation_accuracy,\n",
    "    verbose_initialization=False,\n",
    "    seed=35791,\n",
    "    memory_save = False,\n",
    ")\n",
    "solver = CReLU_MLP(X_train, Y_train, **optimizer_config)\n",
    "metrics = solver.optimize(max_iter=10, verbose=False, X_val=X_test, y_val=Y_test)\n",
    "y_hat = solver.predict(X=X_test)\n",
    "solve_time = round(metrics[\"solve_time_breakdown\"][\"total_time\"],3)\n",
    "print(f\"Test Accuracy for ADMM with RBCD = {accuracy_func(y_hat, Y_test)*100}%, Time = {solve_time}s\")\n",
    "\n",
    "# # ----------- ADMM solved via Conjugate Gradient ------------\n",
    "optimizer_config = dict(\n",
    "    optimizer_mode= 'ADMM',\n",
    "    datatype_backend = 'torch',\n",
    "    loss_type = 'mse',\n",
    "    P_S = 10,\n",
    "    acc_func = binary_classifcation_accuracy,\n",
    "    verbose_initialization=False,\n",
    "    seed=35791,\n",
    "    memory_save = False,\n",
    "    admm_solve_type='cg',\n",
    "    cg_max_iters=10,\n",
    "    cg_eps=1e-6,\n",
    ")\n",
    "solver = CReLU_MLP(X_train, Y_train, **optimizer_config)\n",
    "metrics = solver.optimize(max_iter=10, verbose=False, X_val=X_test, y_val=Y_test)\n",
    "y_hat = solver.predict(X=X_test)\n",
    "solve_time = round(metrics[\"solve_time_breakdown\"][\"total_time\"],3)\n",
    "print(f\"Test Accuracy for ADMM with CG = {accuracy_func(y_hat, Y_test)*100}%, Time = {solve_time}s\")\n",
    "\n",
    "# # ----------- ADMM solved via Nystrom-Preconditioned Conjugate Gradient ------------\n",
    "optimizer_config = dict(\n",
    "    optimizer_mode= 'ADMM',\n",
    "    datatype_backend = 'torch',\n",
    "    loss_type = 'mse',\n",
    "    P_S = 10,\n",
    "    acc_func = binary_classifcation_accuracy,\n",
    "    verbose_initialization=False,\n",
    "    seed=35791,\n",
    "    memory_save = False,\n",
    "    admm_solve_type='cg',\n",
    "    cg_max_iters=10,\n",
    "    cg_eps=1e-6,\n",
    "    cg_preconditioner='nystrom',\n",
    ")\n",
    "solver = CReLU_MLP(X_train, Y_train, **optimizer_config)\n",
    "metrics = solver.optimize(max_iter=10, verbose=False, X_val=X_test, y_val=Y_test)\n",
    "y_hat = solver.predict(X=X_test)\n",
    "solve_time = round(metrics[\"solve_time_breakdown\"][\"total_time\"],3)\n",
    "print(f\"Test Accuracy for ADMM with Nystrom-Preconditioned CG = {accuracy_func(y_hat, Y_test)*100}%, Time = {solve_time}s\")"
   ]
  }
 ],
 "metadata": {
  "kernelspec": {
   "display_name": "badmm",
   "language": "python",
   "name": "python3"
  },
  "language_info": {
   "codemirror_mode": {
    "name": "ipython",
    "version": 3
   },
   "file_extension": ".py",
   "mimetype": "text/x-python",
   "name": "python",
   "nbconvert_exporter": "python",
   "pygments_lexer": "ipython3",
   "version": "3.8.5"
  },
  "orig_nbformat": 4
 },
 "nbformat": 4,
 "nbformat_minor": 2
}
