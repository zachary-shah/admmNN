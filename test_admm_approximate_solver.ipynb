{
 "cells": [
  {
   "cell_type": "code",
   "execution_count": 8,
   "metadata": {},
   "outputs": [],
   "source": [
    "import numpy as np\n",
    "import pandas as pd\n",
    "import matplotlib.pyplot as plt \n",
    "import torch\n",
    "import torch.nn as nn\n",
    "from sklearn.model_selection import train_test_split\n",
    "\n",
    "from admm_approximate_solver import Approximate_ReLU_ADMM_Solver"
   ]
  },
  {
   "cell_type": "code",
   "execution_count": 10,
   "metadata": {},
   "outputs": [],
   "source": [
    "# generate toy data trying to fit noisy data to cosine\n",
    "\n",
    "data = pd.read_csv(\"test_data/wineQuality-red.csv\", delimiter=\";\")\n",
    "X = np.array(data)[:,:11]\n",
    "y = np.array(data.quality)\n",
    "\n",
    "X_train, X_test, y_train, y_test = train_test_split(X, y, test_size=0.2, random_state=42)\n",
    "\n",
    "n_train, d = X_train.shape\n",
    "n_test = X_test.shape[0]\n",
    "\n",
    "m = 10"
   ]
  },
  {
   "cell_type": "code",
   "execution_count": 14,
   "metadata": {},
   "outputs": [
    {
     "name": "stdout",
     "output_type": "stream",
     "text": [
      "Sequential(\n",
      "  (0): Linear(in_features=11, out_features=10, bias=True)\n",
      "  (1): ReLU()\n",
      "  (2): Linear(in_features=10, out_features=9, bias=True)\n",
      ")\n"
     ]
    }
   ],
   "source": [
    "# TODO: solve simple pytorch problem\n",
    "\n",
    "MLP = nn.Sequential(nn.Linear(d, m),\n",
    "                    nn.ReLU(),\n",
    "                    nn.Linear(m, np.max(y)+1))\n",
    "\n",
    "print(MLP)"
   ]
  },
  {
   "cell_type": "code",
   "execution_count": 15,
   "metadata": {},
   "outputs": [
    {
     "ename": "ValueError",
     "evalue": "shape mismatch: value array of shape (12,240) could not be broadcast to indexing result of shape (12,1)",
     "output_type": "error",
     "traceback": [
      "\u001b[0;31m---------------------------------------------------------------------------\u001b[0m",
      "\u001b[0;31mValueError\u001b[0m                                Traceback (most recent call last)",
      "Cell \u001b[0;32mIn[15], line 10\u001b[0m\n\u001b[1;32m      1\u001b[0m \u001b[39m#TODO: solve cvx problem\u001b[39;00m\n\u001b[1;32m      3\u001b[0m solver \u001b[39m=\u001b[39m Approximate_ReLU_ADMM_Solver(m\u001b[39m=\u001b[39m\u001b[39m10\u001b[39m,\n\u001b[1;32m      4\u001b[0m                                       d\u001b[39m=\u001b[39m\u001b[39m10\u001b[39m,\n\u001b[1;32m      5\u001b[0m                                       P_S\u001b[39m=\u001b[39m\u001b[39m10\u001b[39m,\n\u001b[1;32m      6\u001b[0m                                       rho\u001b[39m=\u001b[39m\u001b[39m0.0001\u001b[39m,\n\u001b[1;32m      7\u001b[0m                                       step\u001b[39m=\u001b[39m\u001b[39m0.0001\u001b[39m,\n\u001b[1;32m      8\u001b[0m                                       beta\u001b[39m=\u001b[39m\u001b[39m0.0001\u001b[39m)\n\u001b[0;32m---> 10\u001b[0m solver\u001b[39m.\u001b[39;49moptimize(X_train, y_train, max_iter\u001b[39m=\u001b[39;49m\u001b[39m100\u001b[39;49m)\n\u001b[1;32m     12\u001b[0m y_hat \u001b[39m=\u001b[39m solver\u001b[39m.\u001b[39mpredict(X_test)\n\u001b[1;32m     14\u001b[0m test_loss \u001b[39m=\u001b[39m np\u001b[39m.\u001b[39mlinalg\u001b[39m.\u001b[39mnorm(y_hat, y_test) \u001b[39m*\u001b[39m\u001b[39m*\u001b[39m \u001b[39m2\u001b[39m\n",
      "File \u001b[0;32m~/Desktop/Stanford/_Spr2023/EE 364B/Project/baADMM/admm_approximate_solver.py:113\u001b[0m, in \u001b[0;36mApproximate_ReLU_ADMM_Solver.optimize\u001b[0;34m(self, X, y, max_iter)\u001b[0m\n\u001b[1;32m    111\u001b[0m \u001b[39mfor\u001b[39;00m i \u001b[39min\u001b[39;00m \u001b[39mrange\u001b[39m(\u001b[39m2\u001b[39m \u001b[39m*\u001b[39m P_S):\n\u001b[1;32m    112\u001b[0m     inds \u001b[39m=\u001b[39m np\u001b[39m.\u001b[39marange(d\u001b[39m*\u001b[39mi, d\u001b[39m*\u001b[39m(i\u001b[39m+\u001b[39m\u001b[39m1\u001b[39m))\n\u001b[0;32m--> 113\u001b[0m     v[inds] \u001b[39m=\u001b[39m np\u001b[39m.\u001b[39mmaximum(\u001b[39m1\u001b[39m \u001b[39m-\u001b[39m \u001b[39mself\u001b[39m\u001b[39m.\u001b[39mbeta\u001b[39m/\u001b[39m(\u001b[39mself\u001b[39m\u001b[39m.\u001b[39mrho \u001b[39m*\u001b[39m LA\u001b[39m.\u001b[39mnorm(u[inds] \u001b[39m+\u001b[39m lam[inds])), \u001b[39m0\u001b[39m) \u001b[39m*\u001b[39m (u[inds] \u001b[39m+\u001b[39m lam[inds])\n\u001b[1;32m    114\u001b[0m \u001b[39m# updates on s = (s1...sP, t1...tP)\u001b[39;00m\n\u001b[1;32m    115\u001b[0m \u001b[39mfor\u001b[39;00m i \u001b[39min\u001b[39;00m \u001b[39mrange\u001b[39m(\u001b[39m2\u001b[39m \u001b[39m*\u001b[39m P_S):\n",
      "\u001b[0;31mValueError\u001b[0m: shape mismatch: value array of shape (12,240) could not be broadcast to indexing result of shape (12,1)"
     ]
    }
   ],
   "source": [
    "#TODO: solve cvx problem\n",
    "\n",
    "solver = Approximate_ReLU_ADMM_Solver(m=10,\n",
    "                                      d=10,\n",
    "                                      P_S=10,\n",
    "                                      rho=0.0001,\n",
    "                                      step=0.0001,\n",
    "                                      beta=0.0001)\n",
    "\n",
    "solver.optimize(X_train, y_train, max_iter=100)\n",
    "\n",
    "y_hat = solver.predict(X_test)\n",
    "\n",
    "test_loss = np.linalg.norm(y_hat, y_test) ** 2\n",
    "\n",
    "print(f\"Test loss: {test_loss}\")"
   ]
  },
  {
   "cell_type": "code",
   "execution_count": null,
   "metadata": {},
   "outputs": [],
   "source": []
  }
 ],
 "metadata": {
  "kernelspec": {
   "display_name": "cvx-env",
   "language": "python",
   "name": "python3"
  },
  "language_info": {
   "codemirror_mode": {
    "name": "ipython",
    "version": 3
   },
   "file_extension": ".py",
   "mimetype": "text/x-python",
   "name": "python",
   "nbconvert_exporter": "python",
   "pygments_lexer": "ipython3",
   "version": "3.10.9"
  },
  "orig_nbformat": 4
 },
 "nbformat": 4,
 "nbformat_minor": 2
}
